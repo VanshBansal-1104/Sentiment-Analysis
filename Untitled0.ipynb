{
  "cells": [
    {
      "cell_type": "code",
      "execution_count": 27,
      "metadata": {
        "id": "yoeK3hERRKX0"
      },
      "outputs": [],
      "source": [
        "from keras.preprocessing.text import Tokenizer\n",
        "from keras.utils import pad_sequences\n",
        "from keras import Sequential\n",
        "from keras.utils import to_categorical\n",
        "from keras.layers import Dense,SimpleRNN,Embedding,Flatten"
      ]
    },
    {
      "cell_type": "code",
      "execution_count": 28,
      "metadata": {
        "id": "3J28sr3qRNXH"
      },
      "outputs": [],
      "source": [
        "import numpy as np\n",
        "import pandas as pd"
      ]
    },
    {
      "cell_type": "code",
      "execution_count": 29,
      "metadata": {
        "id": "hjSR-tH0RPxP"
      },
      "outputs": [],
      "source": [
        "train_ds = pd.read_csv('/content/train.csv',encoding='latin1');\n",
        "validation_ds = pd.read_csv('/content/test.csv',encoding='latin1');"
      ]
    },
    {
      "cell_type": "code",
      "execution_count": 30,
      "metadata": {
        "id": "SJzT3GrERYeV"
      },
      "outputs": [],
      "source": [
        "train_ds = train_ds[['text','sentiment']]\n",
        "validation_ds = validation_ds[['text','sentiment']]"
      ]
    },
    {
      "cell_type": "code",
      "execution_count": 31,
      "metadata": {
        "id": "9tN1zIP-RYau"
      },
      "outputs": [],
      "source": [
        "train_ds['text'].fillna('',inplace=True)\n",
        "validation_ds['text'].fillna('',inplace=True)"
      ]
    },
    {
      "cell_type": "code",
      "execution_count": 32,
      "metadata": {
        "id": "f07CVptRRYYg"
      },
      "outputs": [],
      "source": [
        "def func(sentiment):\n",
        "    if sentiment =='positive':\n",
        "        return 0;\n",
        "    elif sentiment =='negative':\n",
        "        return 1;\n",
        "    else:\n",
        "        return 2;\n",
        "train_ds['sentiment'] = train_ds['sentiment'].apply(func)\n",
        "validation_ds['sentiment'] = validation_ds['sentiment'].apply(func)"
      ]
    },
    {
      "cell_type": "code",
      "execution_count": 33,
      "metadata": {
        "id": "rZCkC0odRYTy"
      },
      "outputs": [],
      "source": [
        "x_train = train_ds['text'].tolist()\n",
        "y_train = train_ds['sentiment'].tolist()\n",
        "x_test = validation_ds['text'].tolist()\n",
        "y_test = validation_ds['sentiment'].tolist()"
      ]
    },
    {
      "cell_type": "code",
      "execution_count": 34,
      "metadata": {
        "id": "4PUxDyukR0NL"
      },
      "outputs": [],
      "source": [
        "y_train = to_categorical(y_train, 3)\n",
        "y_test = to_categorical(y_test, 3)"
      ]
    },
    {
      "cell_type": "code",
      "execution_count": 35,
      "metadata": {
        "colab": {
          "base_uri": "https://localhost:8080/"
        },
        "id": "REk_o-MzR0iF",
        "outputId": "9220bef2-8a9b-4e7c-c0ef-5ad73dccfd41"
      },
      "outputs": [
        {
          "data": {
            "text/plain": [
              "array([[0., 0., 1.],\n",
              "       [0., 1., 0.],\n",
              "       [0., 1., 0.],\n",
              "       ...,\n",
              "       [1., 0., 0.],\n",
              "       [1., 0., 0.],\n",
              "       [0., 0., 1.]], dtype=float32)"
            ]
          },
          "execution_count": 35,
          "metadata": {},
          "output_type": "execute_result"
        }
      ],
      "source": [
        "y_train"
      ]
    },
    {
      "cell_type": "code",
      "execution_count": 36,
      "metadata": {
        "id": "L7kPKr5kR2EA"
      },
      "outputs": [],
      "source": [
        "tokenizer = Tokenizer(num_words=20000)"
      ]
    },
    {
      "cell_type": "code",
      "execution_count": 37,
      "metadata": {
        "id": "X1YcngUSaDfs"
      },
      "outputs": [],
      "source": [
        "tokenizer.fit_on_texts(x_train)\n",
        "tokenizer.fit_on_texts(x_test)"
      ]
    },
    {
      "cell_type": "code",
      "execution_count": 38,
      "metadata": {
        "colab": {
          "base_uri": "https://localhost:8080/"
        },
        "id": "AkxpbZ-CR6Wc",
        "outputId": "a746451c-0c4b-4cf5-bfe8-8aac7a0c4303"
      },
      "outputs": [
        {
          "data": {
            "text/plain": [
              "28614"
            ]
          },
          "execution_count": 38,
          "metadata": {},
          "output_type": "execute_result"
        }
      ],
      "source": [
        "len(tokenizer.word_index)"
      ]
    },
    {
      "cell_type": "code",
      "execution_count": 39,
      "metadata": {
        "id": "y3d8yCE1R8HQ"
      },
      "outputs": [],
      "source": [
        "x_train = tokenizer.texts_to_sequences(x_train)\n",
        "x_test = tokenizer.texts_to_sequences(x_test)"
      ]
    },
    {
      "cell_type": "code",
      "execution_count": 40,
      "metadata": {
        "id": "N4d_XFl8SQUR"
      },
      "outputs": [],
      "source": [
        "from keras.utils import pad_sequences\n",
        "x_train = pad_sequences(x_train, padding='post', maxlen=35)\n",
        "x_test = pad_sequences(x_test, padding='post', maxlen=35)"
      ]
    },
    {
      "cell_type": "code",
      "execution_count": 41,
      "metadata": {
        "colab": {
          "base_uri": "https://localhost:8080/"
        },
        "id": "-Qoz4wpSSR1D",
        "outputId": "80dd7a39-28d0-4b04-8b1c-23d72da832b9"
      },
      "outputs": [
        {
          "data": {
            "text/plain": [
              "array([   1,  162,   19, 7713,   71,    1,  151,   49,    0,    0,    0,\n",
              "          0,    0,    0,    0,    0,    0,    0,    0,    0,    0,    0,\n",
              "          0,    0,    0,    0,    0,    0,    0,    0,    0,    0,    0,\n",
              "          0,    0], dtype=int32)"
            ]
          },
          "execution_count": 41,
          "metadata": {},
          "output_type": "execute_result"
        }
      ],
      "source": [
        "x_train[0]"
      ]
    },
    {
      "cell_type": "code",
      "execution_count": 42,
      "metadata": {
        "colab": {
          "base_uri": "https://localhost:8080/"
        },
        "id": "z5m8Ws3SSUX2",
        "outputId": "06e47971-6a1d-4a96-8caf-67f43a84df73"
      },
      "outputs": [
        {
          "data": {
            "text/plain": [
              "(27480, 35)"
            ]
          },
          "execution_count": 42,
          "metadata": {},
          "output_type": "execute_result"
        }
      ],
      "source": [
        "x_train.shape"
      ]
    },
    {
      "cell_type": "code",
      "execution_count": 43,
      "metadata": {
        "colab": {
          "base_uri": "https://localhost:8080/"
        },
        "id": "V2ocnMsCSXYL",
        "outputId": "50036f70-46b4-46e4-bc51-ebfaf2a93709"
      },
      "outputs": [
        {
          "name": "stdout",
          "output_type": "stream",
          "text": [
            "Model: \"sequential_1\"\n",
            "_________________________________________________________________\n",
            " Layer (type)                Output Shape              Param #   \n",
            "=================================================================\n",
            " embedding_1 (Embedding)     (None, 35, 5)             100000    \n",
            "                                                                 \n",
            " simple_rnn_1 (SimpleRNN)    (None, 32)                1216      \n",
            "                                                                 \n",
            " dense_1 (Dense)             (None, 3)                 99        \n",
            "                                                                 \n",
            "=================================================================\n",
            "Total params: 101315 (395.76 KB)\n",
            "Trainable params: 101315 (395.76 KB)\n",
            "Non-trainable params: 0 (0.00 Byte)\n",
            "_________________________________________________________________\n"
          ]
        }
      ],
      "source": [
        "model = Sequential()\n",
        "model.add(Embedding(input_dim=20000, output_dim=5, input_length=35))\n",
        "model.add(SimpleRNN(32,return_sequences=False))\n",
        "model.add(Dense(3,activation='softmax'))\n",
        "model.summary()"
      ]
    },
    {
      "cell_type": "code",
      "execution_count": 44,
      "metadata": {
        "id": "qUz084Q7SY50"
      },
      "outputs": [],
      "source": [
        "model.compile(optimizer='adam', loss='categorical_crossentropy', metrics=['accuracy'])\n"
      ]
    },
    {
      "cell_type": "code",
      "execution_count": 45,
      "metadata": {
        "colab": {
          "base_uri": "https://localhost:8080/"
        },
        "id": "Q9X3bUXgSduO",
        "outputId": "961ab448-d494-43ea-b1e3-5ccc20964cf3"
      },
      "outputs": [
        {
          "name": "stdout",
          "output_type": "stream",
          "text": [
            "Epoch 1/10\n",
            "859/859 [==============================] - 15s 16ms/step - loss: 0.9549 - accuracy: 0.5156 - val_loss: 0.7513 - val_accuracy: 0.7254\n",
            "Epoch 2/10\n",
            "859/859 [==============================] - 19s 22ms/step - loss: 0.7039 - accuracy: 0.7005 - val_loss: 0.6022 - val_accuracy: 0.7705\n",
            "Epoch 3/10\n",
            "859/859 [==============================] - 14s 16ms/step - loss: 0.5694 - accuracy: 0.7760 - val_loss: 0.5955 - val_accuracy: 0.7585\n",
            "Epoch 4/10\n",
            "859/859 [==============================] - 13s 15ms/step - loss: 0.4749 - accuracy: 0.8231 - val_loss: 0.6796 - val_accuracy: 0.7502\n",
            "Epoch 5/10\n",
            "859/859 [==============================] - 15s 17ms/step - loss: 0.3847 - accuracy: 0.8610 - val_loss: 0.6440 - val_accuracy: 0.7574\n",
            "Epoch 6/10\n",
            "859/859 [==============================] - 13s 15ms/step - loss: 0.3334 - accuracy: 0.8835 - val_loss: 0.6497 - val_accuracy: 0.7526\n",
            "Epoch 7/10\n",
            "859/859 [==============================] - 13s 15ms/step - loss: 0.2894 - accuracy: 0.9021 - val_loss: 0.7405 - val_accuracy: 0.7448\n",
            "Epoch 8/10\n",
            "859/859 [==============================] - 13s 15ms/step - loss: 0.2548 - accuracy: 0.9153 - val_loss: 0.7454 - val_accuracy: 0.7483\n",
            "Epoch 9/10\n",
            "859/859 [==============================] - 14s 17ms/step - loss: 0.2327 - accuracy: 0.9222 - val_loss: 0.8207 - val_accuracy: 0.7410\n",
            "Epoch 10/10\n",
            "859/859 [==============================] - 14s 16ms/step - loss: 0.2137 - accuracy: 0.9295 - val_loss: 0.8523 - val_accuracy: 0.7252\n"
          ]
        }
      ],
      "source": [
        "history = model.fit(x_train, y_train, epochs=10, validation_data=(x_test, y_test))\n",
        "import tensorflow as tf\n",
        "tf.random.set_seed(0)"
      ]
    },
    {
      "cell_type": "code",
      "execution_count": 46,
      "metadata": {
        "colab": {
          "base_uri": "https://localhost:8080/"
        },
        "id": "Z9kPmnelacEN",
        "outputId": "9ecd8621-5b04-448c-8322-3602479424c8"
      },
      "outputs": [
        {
          "name": "stdout",
          "output_type": "stream",
          "text": [
            "The accuracy of the model is: 0.9294759631156921\n"
          ]
        }
      ],
      "source": [
        "accuracy = history.history['accuracy'][-1]\n",
        "print(f\"The accuracy of the model is: {accuracy}\")\n"
      ]
    },
    {
      "cell_type": "code",
      "execution_count": 47,
      "metadata": {
        "colab": {
          "base_uri": "https://localhost:8080/",
          "height": 430
        },
        "id": "1ZsaLNt1SfnB",
        "outputId": "6df0a0fa-c25f-4617-dbba-2b22702e67d1"
      },
      "outputs": [
        {
          "data": {
            "image/png": "[encoded data removed]",
            "text/plain": [
              "<Figure size 640x480 with 1 Axes>"
            ]
          },
          "metadata": {},
          "output_type": "display_data"
        }
      ],
      "source": [
        "import matplotlib.pyplot as plt\n",
        "plt.plot(history.history['accuracy'])\n",
        "plt.plot(history.history['val_accuracy'])\n",
        "plt.show()"
      ]
    },
    {
      "cell_type": "code",
      "execution_count": 48,
      "metadata": {
        "colab": {
          "base_uri": "https://localhost:8080/"
        },
        "id": "oT1OrC0CSrpb",
        "outputId": "12a1a07c-4a60-4c07-c226-5c725b18d7bf"
      },
      "outputs": [
        {
          "name": "stdout",
          "output_type": "stream",
          "text": [
            "1/1 [==============================] - 0s 228ms/step\n",
            "Neutral Sentiment\n"
          ]
        }
      ],
      "source": [
        "# Prediction 1\n",
        "text = \"The movie was bad, i will not recommend this movie to anyone\"\n",
        "\n",
        "new_text_seq = tokenizer.texts_to_sequences([text])\n",
        "new_text_padded = pad_sequences(new_text_seq, padding='post', maxlen=35)\n",
        "predictions = model.predict(new_text_padded)\n",
        "predicted_class_index = predictions.argmax(axis=-1)\n",
        "if predicted_class_index[0] == 0:\n",
        "    print(\"Postive Sentiment\");\n",
        "elif predicted_class_index[0] == 1:\n",
        "    print(\"Negative Sentiment\")\n",
        "else:\n",
        "    print(\"Neutral Sentiment\")"
      ]
    },
    {
      "cell_type": "code",
      "execution_count": 49,
      "metadata": {
        "colab": {
          "base_uri": "https://localhost:8080/"
        },
        "id": "mbdTh4n7Swmw",
        "outputId": "18e0b146-cf16-49e9-ecf7-0566f8a1eb0c"
      },
      "outputs": [
        {
          "name": "stdout",
          "output_type": "stream",
          "text": [
            "1/1 [==============================] - 0s 25ms/step\n",
            "Postive Sentiment\n"
          ]
        }
      ],
      "source": [
        "# Prediction 2\n",
        "\n",
        "text = \"The movie was good, i will recommend this movie to anyone\"\n",
        "\n",
        "new_text_seq = tokenizer.texts_to_sequences([text])\n",
        "new_text_padded = pad_sequences(new_text_seq, padding='post', maxlen=35)\n",
        "predictions = model.predict(new_text_padded)\n",
        "predicted_class_index = predictions.argmax(axis=-1)\n",
        "if predicted_class_index[0] == 0:\n",
        "    print(\"Postive Sentiment\");\n",
        "elif predicted_class_index[0] == 1:\n",
        "    print(\"Negative Sentiment\")\n",
        "else:\n",
        "    print(\"Neutral Sentiment\")"
      ]
    }
  ],
  "metadata": {
    "colab": {
      "provenance": []
    },
    "kernelspec": {
      "display_name": "Python 3",
      "name": "python3"
    },
    "language_info": {
      "name": "python",
      "version": "3.12.2"
    }
  },
  "nbformat": 4,
  "nbformat_minor": 0
}
